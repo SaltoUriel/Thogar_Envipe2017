{
 "cells": [
  {
   "cell_type": "code",
   "execution_count": 2,
   "metadata": {},
   "outputs": [],
   "source": [
    "import pandas as pn\n",
    "import numpy as np \n",
    "import matplotlib.pyplot as plt\n",
    "import sklearn as sk \n",
    "from sklearn.cluster import KMeans"
   ]
  },
  {
   "cell_type": "code",
   "execution_count": 4,
   "metadata": {},
   "outputs": [
    {
     "data": {
      "text/html": [
       "<div>\n",
       "<style scoped>\n",
       "    .dataframe tbody tr th:only-of-type {\n",
       "        vertical-align: middle;\n",
       "    }\n",
       "\n",
       "    .dataframe tbody tr th {\n",
       "        vertical-align: top;\n",
       "    }\n",
       "\n",
       "    .dataframe thead th {\n",
       "        text-align: right;\n",
       "    }\n",
       "</style>\n",
       "<table border=\"1\" class=\"dataframe\">\n",
       "  <thead>\n",
       "    <tr style=\"text-align: right;\">\n",
       "      <th></th>\n",
       "      <th>Unnamed: 0</th>\n",
       "      <th>ID_VIV</th>\n",
       "      <th>ID_HOG</th>\n",
       "      <th>UPM</th>\n",
       "      <th>VIV_SEL</th>\n",
       "      <th>HOGAR</th>\n",
       "      <th>RESUL_H</th>\n",
       "      <th>N_INF</th>\n",
       "      <th>R_SEL</th>\n",
       "      <th>CVE_ENT</th>\n",
       "      <th>CVE_MUN</th>\n",
       "      <th>TOT_PER</th>\n",
       "      <th>FAC_HOG</th>\n",
       "      <th>DOMINIO</th>\n",
       "      <th>EST_DIS</th>\n",
       "      <th>UPM_DIS</th>\n",
       "    </tr>\n",
       "  </thead>\n",
       "  <tbody>\n",
       "    <tr>\n",
       "      <th>0</th>\n",
       "      <td>0</td>\n",
       "      <td>100008.01</td>\n",
       "      <td>0100008.01.01</td>\n",
       "      <td>100008</td>\n",
       "      <td>1</td>\n",
       "      <td>1</td>\n",
       "      <td>2</td>\n",
       "      <td>1</td>\n",
       "      <td>1</td>\n",
       "      <td>1</td>\n",
       "      <td>1</td>\n",
       "      <td>4</td>\n",
       "      <td>204</td>\n",
       "      <td>1</td>\n",
       "      <td>3</td>\n",
       "      <td>1</td>\n",
       "    </tr>\n",
       "    <tr>\n",
       "      <th>1</th>\n",
       "      <td>1</td>\n",
       "      <td>100008.02</td>\n",
       "      <td>0100008.02.01</td>\n",
       "      <td>100008</td>\n",
       "      <td>2</td>\n",
       "      <td>1</td>\n",
       "      <td>2</td>\n",
       "      <td>1</td>\n",
       "      <td>2</td>\n",
       "      <td>1</td>\n",
       "      <td>1</td>\n",
       "      <td>3</td>\n",
       "      <td>204</td>\n",
       "      <td>1</td>\n",
       "      <td>3</td>\n",
       "      <td>1</td>\n",
       "    </tr>\n",
       "    <tr>\n",
       "      <th>2</th>\n",
       "      <td>2</td>\n",
       "      <td>100008.04</td>\n",
       "      <td>0100008.04.01</td>\n",
       "      <td>100008</td>\n",
       "      <td>4</td>\n",
       "      <td>1</td>\n",
       "      <td>2</td>\n",
       "      <td>1</td>\n",
       "      <td>1</td>\n",
       "      <td>1</td>\n",
       "      <td>1</td>\n",
       "      <td>2</td>\n",
       "      <td>204</td>\n",
       "      <td>1</td>\n",
       "      <td>3</td>\n",
       "      <td>1</td>\n",
       "    </tr>\n",
       "    <tr>\n",
       "      <th>3</th>\n",
       "      <td>3</td>\n",
       "      <td>100008.05</td>\n",
       "      <td>0100008.05.01</td>\n",
       "      <td>100008</td>\n",
       "      <td>5</td>\n",
       "      <td>1</td>\n",
       "      <td>1</td>\n",
       "      <td>2</td>\n",
       "      <td>1</td>\n",
       "      <td>1</td>\n",
       "      <td>1</td>\n",
       "      <td>3</td>\n",
       "      <td>204</td>\n",
       "      <td>1</td>\n",
       "      <td>3</td>\n",
       "      <td>1</td>\n",
       "    </tr>\n",
       "    <tr>\n",
       "      <th>4</th>\n",
       "      <td>4</td>\n",
       "      <td>100022.01</td>\n",
       "      <td>0100022.01.01</td>\n",
       "      <td>100022</td>\n",
       "      <td>1</td>\n",
       "      <td>1</td>\n",
       "      <td>1</td>\n",
       "      <td>2</td>\n",
       "      <td>3</td>\n",
       "      <td>1</td>\n",
       "      <td>1</td>\n",
       "      <td>3</td>\n",
       "      <td>198</td>\n",
       "      <td>1</td>\n",
       "      <td>2</td>\n",
       "      <td>2</td>\n",
       "    </tr>\n",
       "  </tbody>\n",
       "</table>\n",
       "</div>"
      ],
      "text/plain": [
       "   Unnamed: 0     ID_VIV         ID_HOG     UPM  VIV_SEL  HOGAR  RESUL_H  \\\n",
       "0           0  100008.01  0100008.01.01  100008        1      1        2   \n",
       "1           1  100008.02  0100008.02.01  100008        2      1        2   \n",
       "2           2  100008.04  0100008.04.01  100008        4      1        2   \n",
       "3           3  100008.05  0100008.05.01  100008        5      1        1   \n",
       "4           4  100022.01  0100022.01.01  100022        1      1        1   \n",
       "\n",
       "   N_INF  R_SEL  CVE_ENT  CVE_MUN  TOT_PER  FAC_HOG  DOMINIO  EST_DIS  UPM_DIS  \n",
       "0      1      1        1        1        4      204        1        3        1  \n",
       "1      1      2        1        1        3      204        1        3        1  \n",
       "2      1      1        1        1        2      204        1        3        1  \n",
       "3      2      1        1        1        3      204        1        3        1  \n",
       "4      2      3        1        1        3      198        1        2        2  "
      ]
     },
     "execution_count": 4,
     "metadata": {},
     "output_type": "execute_result"
    }
   ],
   "source": [
    "df = pn.read_csv('thogar_clean2017.csv')\n",
    "df.head()"
   ]
  },
  {
   "cell_type": "code",
   "execution_count": null,
   "metadata": {},
   "outputs": [],
   "source": [
    "df.drop('Unnamed: 0', 1, inplace=True)\n",
    "df.drop('ID_VIV', 1, inplace=True)\n",
    "df.drop('ID_HOG', 1, inplace=True)"
   ]
  },
  {
   "cell_type": "code",
   "execution_count": 7,
   "metadata": {},
   "outputs": [
    {
     "data": {
      "text/html": [
       "<div>\n",
       "<style scoped>\n",
       "    .dataframe tbody tr th:only-of-type {\n",
       "        vertical-align: middle;\n",
       "    }\n",
       "\n",
       "    .dataframe tbody tr th {\n",
       "        vertical-align: top;\n",
       "    }\n",
       "\n",
       "    .dataframe thead th {\n",
       "        text-align: right;\n",
       "    }\n",
       "</style>\n",
       "<table border=\"1\" class=\"dataframe\">\n",
       "  <thead>\n",
       "    <tr style=\"text-align: right;\">\n",
       "      <th></th>\n",
       "      <th>UPM</th>\n",
       "      <th>VIV_SEL</th>\n",
       "      <th>HOGAR</th>\n",
       "      <th>RESUL_H</th>\n",
       "      <th>N_INF</th>\n",
       "      <th>R_SEL</th>\n",
       "      <th>CVE_ENT</th>\n",
       "      <th>CVE_MUN</th>\n",
       "      <th>TOT_PER</th>\n",
       "      <th>FAC_HOG</th>\n",
       "      <th>DOMINIO</th>\n",
       "      <th>EST_DIS</th>\n",
       "      <th>UPM_DIS</th>\n",
       "    </tr>\n",
       "  </thead>\n",
       "  <tbody>\n",
       "    <tr>\n",
       "      <th>0</th>\n",
       "      <td>100008</td>\n",
       "      <td>1</td>\n",
       "      <td>1</td>\n",
       "      <td>2</td>\n",
       "      <td>1</td>\n",
       "      <td>1</td>\n",
       "      <td>1</td>\n",
       "      <td>1</td>\n",
       "      <td>4</td>\n",
       "      <td>204</td>\n",
       "      <td>1</td>\n",
       "      <td>3</td>\n",
       "      <td>1</td>\n",
       "    </tr>\n",
       "    <tr>\n",
       "      <th>1</th>\n",
       "      <td>100008</td>\n",
       "      <td>2</td>\n",
       "      <td>1</td>\n",
       "      <td>2</td>\n",
       "      <td>1</td>\n",
       "      <td>2</td>\n",
       "      <td>1</td>\n",
       "      <td>1</td>\n",
       "      <td>3</td>\n",
       "      <td>204</td>\n",
       "      <td>1</td>\n",
       "      <td>3</td>\n",
       "      <td>1</td>\n",
       "    </tr>\n",
       "    <tr>\n",
       "      <th>2</th>\n",
       "      <td>100008</td>\n",
       "      <td>4</td>\n",
       "      <td>1</td>\n",
       "      <td>2</td>\n",
       "      <td>1</td>\n",
       "      <td>1</td>\n",
       "      <td>1</td>\n",
       "      <td>1</td>\n",
       "      <td>2</td>\n",
       "      <td>204</td>\n",
       "      <td>1</td>\n",
       "      <td>3</td>\n",
       "      <td>1</td>\n",
       "    </tr>\n",
       "    <tr>\n",
       "      <th>3</th>\n",
       "      <td>100008</td>\n",
       "      <td>5</td>\n",
       "      <td>1</td>\n",
       "      <td>1</td>\n",
       "      <td>2</td>\n",
       "      <td>1</td>\n",
       "      <td>1</td>\n",
       "      <td>1</td>\n",
       "      <td>3</td>\n",
       "      <td>204</td>\n",
       "      <td>1</td>\n",
       "      <td>3</td>\n",
       "      <td>1</td>\n",
       "    </tr>\n",
       "    <tr>\n",
       "      <th>4</th>\n",
       "      <td>100022</td>\n",
       "      <td>1</td>\n",
       "      <td>1</td>\n",
       "      <td>1</td>\n",
       "      <td>2</td>\n",
       "      <td>3</td>\n",
       "      <td>1</td>\n",
       "      <td>1</td>\n",
       "      <td>3</td>\n",
       "      <td>198</td>\n",
       "      <td>1</td>\n",
       "      <td>2</td>\n",
       "      <td>2</td>\n",
       "    </tr>\n",
       "  </tbody>\n",
       "</table>\n",
       "</div>"
      ],
      "text/plain": [
       "      UPM  VIV_SEL  HOGAR  RESUL_H  N_INF  R_SEL  CVE_ENT  CVE_MUN  TOT_PER  \\\n",
       "0  100008        1      1        2      1      1        1        1        4   \n",
       "1  100008        2      1        2      1      2        1        1        3   \n",
       "2  100008        4      1        2      1      1        1        1        2   \n",
       "3  100008        5      1        1      2      1        1        1        3   \n",
       "4  100022        1      1        1      2      3        1        1        3   \n",
       "\n",
       "   FAC_HOG  DOMINIO  EST_DIS  UPM_DIS  \n",
       "0      204        1        3        1  \n",
       "1      204        1        3        1  \n",
       "2      204        1        3        1  \n",
       "3      204        1        3        1  \n",
       "4      198        1        2        2  "
      ]
     },
     "execution_count": 7,
     "metadata": {},
     "output_type": "execute_result"
    }
   ],
   "source": [
    "df.head()"
   ]
  },
  {
   "cell_type": "code",
   "execution_count": 8,
   "metadata": {},
   "outputs": [],
   "source": [
    "df = sk.preprocessing.normalize(df, norm='l2', axis=1, copy=True)"
   ]
  },
  {
   "cell_type": "code",
   "execution_count": 10,
   "metadata": {},
   "outputs": [
    {
     "data": {
      "image/png": "[encoded data removed]",
      "text/plain": [
       "<Figure size 432x288 with 1 Axes>"
      ]
     },
     "metadata": {},
     "output_type": "display_data"
    }
   ],
   "source": [
    "\n",
    "distortionsdistort  = []\n",
    "\n",
    "for i in range(1,11):\n",
    "    km = KMeans(n_clusters=i,\n",
    "                init='k-means++',\n",
    "                n_init=10,\n",
    "                max_iter=300,\n",
    "                random_state=0)\n",
    "    km.fit(df)\n",
    "    distortionsdistort.append(km.inertia_)\n",
    "\n",
    "plt.plot(range(1,11), distortionsdistort, marker='o')\n",
    "plt.xlabel('Numero de clusters')\n",
    "plt.ylabel('Distorsión')\n",
    "plt.show()"
   ]
  },
  {
   "cell_type": "code",
   "execution_count": 11,
   "metadata": {},
   "outputs": [],
   "source": [
    "from sklearn.cluster import MeanShift, estimate_bandwidth"
   ]
  },
  {
   "cell_type": "code",
   "execution_count": 13,
   "metadata": {},
   "outputs": [
    {
     "name": "stdout",
     "output_type": "stream",
     "text": [
      "number of estimated clusters : 16\n"
     ]
    }
   ],
   "source": [
    "bandwidth = estimate_bandwidth(df, quantile=0.3)\n",
    "\n",
    "ms = MeanShift(bandwidth=bandwidth, bin_seeding=True)\n",
    "ms.fit(df)\n",
    "labels = ms.labels_\n",
    "cluster_centers = ms.cluster_centers_\n",
    "\n",
    "labels_unique = np.unique(labels)\n",
    "n_clusters_ = len(labels_unique)\n",
    "\n",
    "print(\"number of estimated clusters : %d\" % n_clusters_)"
   ]
  },
  {
   "cell_type": "code",
   "execution_count": 14,
   "metadata": {},
   "outputs": [],
   "source": [
    "import matplotlib.pyplot as plt2\n",
    "from itertools import cycle"
   ]
  },
  {
   "cell_type": "code",
   "execution_count": 15,
   "metadata": {
    "scrolled": false
   },
   "outputs": [
    {
     "data": {
      "image/png": "[encoded data removed]",
      "text/plain": [
       "<Figure size 432x288 with 1 Axes>"
      ]
     },
     "metadata": {},
     "output_type": "display_data"
    }
   ],
   "source": [
    "colors = cycle('bgrcmykbgrcmykbgrcmykbgrcmyk')\n",
    "for k, col in zip(range(n_clusters_), colors):\n",
    "    my_members = labels == k\n",
    "    cluster_center = cluster_centers[k]\n",
    "    plt.plot(df[my_members, 0], df[my_members, 1], col + '.')\n",
    "    plt.plot(cluster_center[0], cluster_center[1], 'o', markerfacecolor=col,\n",
    "             markeredgecolor='k', markersize=14)\n",
    "plt.title('Estimated number of clusters: %d' % n_clusters_)\n",
    "plt.show()"
   ]
  },
  {
   "cell_type": "code",
   "execution_count": 19,
   "metadata": {},
   "outputs": [],
   "source": [
    "from sklearn import decomposition"
   ]
  },
  {
   "cell_type": "code",
   "execution_count": 25,
   "metadata": {},
   "outputs": [],
   "source": [
    "pca = decomposition.PCA(n_components=3)\n",
    "pca.fit(df)\n",
    "df = pca.transform(df)"
   ]
  },
  {
   "cell_type": "code",
   "execution_count": 23,
   "metadata": {},
   "outputs": [
    {
     "data": {
      "image/png": "[encoded data removed]",
      "text/plain": [
       "<Figure size 432x288 with 1 Axes>"
      ]
     },
     "metadata": {},
     "output_type": "display_data"
    }
   ],
   "source": [
    "colors = cycle('bgrcmykbgrcmykbgrcmykbgrcmyk')\n",
    "for k, col in zip(range(n_clusters_), colors):\n",
    "    my_members = labels == k\n",
    "    cluster_center = cluster_centers[k]\n",
    "    plt.plot(df[my_members, 0], df[my_members, 1], col + '.')\n",
    "    plt.plot(cluster_center[0], cluster_center[1], 'o', markerfacecolor=col,\n",
    "             markeredgecolor='k', markersize=14)\n",
    "plt.title('Estimated number of clusters: %d' % n_clusters_)\n",
    "plt.show()"
   ]
  },
  {
   "cell_type": "code",
   "execution_count": 26,
   "metadata": {},
   "outputs": [],
   "source": [
    "clusters = KMeans(n_clusters=5,\n",
    "                    init='k-means++', \n",
    "                    max_iter=300,\n",
    "                    tol=1e-04,\n",
    "                    n_init=10,\n",
    "                    random_state=0)"
   ]
  },
  {
   "cell_type": "code",
   "execution_count": 27,
   "metadata": {},
   "outputs": [
    {
     "data": {
      "text/plain": [
       "array([2, 2, 2, ..., 0, 0, 0])"
      ]
     },
     "execution_count": 27,
     "metadata": {},
     "output_type": "execute_result"
    }
   ],
   "source": [
    "y_km = clusters.fit_predict(df)\n",
    "y_km"
   ]
  },
  {
   "cell_type": "code",
   "execution_count": 28,
   "metadata": {},
   "outputs": [
    {
     "data": {
      "image/png": "[encoded data removed]",
      "text/plain": [
       "<Figure size 432x288 with 1 Axes>"
      ]
     },
     "metadata": {},
     "output_type": "display_data"
    }
   ],
   "source": [
    "plt.scatter(df[y_km==0,0],\n",
    "          df[y_km==0,1],\n",
    "          s=70,\n",
    "          c='lightgreen',\n",
    "          edgecolor='black',\n",
    "          marker='o',\n",
    "          label='cluster 1')\n",
    "plt.scatter(df[y_km==1,0],\n",
    "          df[y_km==1,1],\n",
    "          s=70,\n",
    "          c='orange',\n",
    "          edgecolor='black',\n",
    "          marker='v',\n",
    "          label='cluster 2')\n",
    "plt.scatter(df[y_km==2,0],\n",
    "          df[y_km==2,1],\n",
    "          s=70,\n",
    "          c='blue',\n",
    "          edgecolor='black',\n",
    "          marker='s',\n",
    "          label='cluster 3')\n",
    "plt.scatter(df[y_km==3,0],\n",
    "          df[y_km==3,1],\n",
    "          s=70,\n",
    "          c='green',\n",
    "          edgecolor='black',\n",
    "          marker='s',\n",
    "          label='cluster 4')\n",
    "plt.scatter(df[y_km==4,0],\n",
    "          df[y_km==4,1],\n",
    "          s=70,\n",
    "          c='brown',\n",
    "          edgecolor='black',\n",
    "          marker='o',\n",
    "          label='cluster 5')\n",
    "plt.scatter(clusters.cluster_centers_[:,0],\n",
    "          clusters.cluster_centers_[:,1],\n",
    "          s=50,\n",
    "          c='red',\n",
    "          marker='*',\n",
    "          label='centroides')\n",
    "\n",
    "plt.legend()\n",
    "plt.grid()\n",
    "plt.show()"
   ]
  }
 ],
 "metadata": {
  "kernelspec": {
   "display_name": "Python 3",
   "language": "python",
   "name": "python3"
  },
  "language_info": {
   "codemirror_mode": {
    "name": "ipython",
    "version": 3
   },
   "file_extension": ".py",
   "mimetype": "text/x-python",
   "name": "python",
   "nbconvert_exporter": "python",
   "pygments_lexer": "ipython3",
   "version": "3.6.5"
  }
 },
 "nbformat": 4,
 "nbformat_minor": 2
}
